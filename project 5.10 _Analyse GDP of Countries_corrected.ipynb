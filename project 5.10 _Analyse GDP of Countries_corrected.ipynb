{
 "cells": [
  {
   "cell_type": "code",
   "execution_count": 8,
   "id": "f26e6541",
   "metadata": {},
   "outputs": [],
   "source": [
    "list_of_countries = ['Algeria','Angola','Argentina','Australia','Austria','Bahamas','Bangladesh','Belarus','Belgium','Bhutan','Brazil','Bulgaria','Cambodia','Cameroon','Chile','China','Colombia','Cyprus','Denmark','El Salvador','Estonia','Ethiopia','Fiji','Finland','France','Georgia','Ghana','Grenada','Guinea','Haiti','Honduras','Hungary','India','Indonesia','Ireland','Italy','Japan','Kenya', 'South Korea','Liberia','Malaysia','Mexico', 'Morocco','Nepal','New Zealand','Norway','Pakistan', 'Peru','Qatar','Russia','Singapore','South Africa','Spain','Sweden','Switzerland','Thailand', 'United Arab Emirates','United Kingdom','United States','Uruguay','Venezuela','Vietnam','Zimbabwe']"
   ]
  },
  {
   "cell_type": "code",
   "execution_count": 9,
   "id": "b7f813e0",
   "metadata": {},
   "outputs": [],
   "source": [
    "gdp_values_for_each_countries = [2255.225482,629.9553062,11601.63022,25306.82494,27266.40335,19466.99052,588.3691778,2890.345675,24733.62696,1445.760002,4803.398244,2618.876037,590.4521124,665.7982328,7122.938458,2639.54156,3362.4656,15378.16704,30860.12808,2579.115607,6525.541272,229.6769525,2242.689259,27570.4852,23016.84778,1334.646773,402.6953275,6047.200797,394.1156638,385.5793827,1414.072488,5745.981529,837.7464011,1206.991065,27715.52837,18937.24998,39578.07441,478.2194906,16684.21278,279.2204061,5345.213415,6288.25324,1908.304416,274.8728621,14646.42094,40034.85063,672.1547506,3359.517402,36152.66676,3054.727742,33529.83052,3825.093781,15428.32098,33630.24604,39170.41371,2699.123242,21058.43643,28272.40661,37691.02733,9581.05659,5671.912202,757.4009286,347.7456605]"
   ]
  },
  {
   "cell_type": "code",
   "execution_count": 14,
   "id": "77fbcd03",
   "metadata": {},
   "outputs": [],
   "source": [
    "import numpy as np"
   ]
  },
  {
   "cell_type": "code",
   "execution_count": 15,
   "id": "a38d6334",
   "metadata": {},
   "outputs": [],
   "source": [
    "list_of_countries = np.array(list_of_countries)"
   ]
  },
  {
   "cell_type": "code",
   "execution_count": 16,
   "id": "3e3ede63",
   "metadata": {},
   "outputs": [
    {
     "data": {
      "text/plain": [
       "array(['Algeria', 'Angola', 'Argentina', 'Australia', 'Austria',\n",
       "       'Bahamas', 'Bangladesh', 'Belarus', 'Belgium', 'Bhutan', 'Brazil',\n",
       "       'Bulgaria', 'Cambodia', 'Cameroon', 'Chile', 'China', 'Colombia',\n",
       "       'Cyprus', 'Denmark', 'El Salvador', 'Estonia', 'Ethiopia', 'Fiji',\n",
       "       'Finland', 'France', 'Georgia', 'Ghana', 'Grenada', 'Guinea',\n",
       "       'Haiti', 'Honduras', 'Hungary', 'India', 'Indonesia', 'Ireland',\n",
       "       'Italy', 'Japan', 'Kenya', 'South Korea', 'Liberia', 'Malaysia',\n",
       "       'Mexico', 'Morocco', 'Nepal', 'New Zealand', 'Norway', 'Pakistan',\n",
       "       'Peru', 'Qatar', 'Russia', 'Singapore', 'South Africa', 'Spain',\n",
       "       'Sweden', 'Switzerland', 'Thailand', 'United Arab Emirates',\n",
       "       'United Kingdom', 'United States', 'Uruguay', 'Venezuela',\n",
       "       'Vietnam', 'Zimbabwe'], dtype='<U20')"
      ]
     },
     "execution_count": 16,
     "metadata": {},
     "output_type": "execute_result"
    }
   ],
   "source": [
    "list_of_countries"
   ]
  },
  {
   "cell_type": "code",
   "execution_count": null,
   "id": "fd56505c",
   "metadata": {},
   "outputs": [],
   "source": []
  },
  {
   "cell_type": "code",
   "execution_count": 17,
   "id": "047260e9",
   "metadata": {},
   "outputs": [],
   "source": [
    "gdp_values_for_each_countries = np.array(gdp_values_for_each_countries)"
   ]
  },
  {
   "cell_type": "code",
   "execution_count": 18,
   "id": "4d291bfe",
   "metadata": {},
   "outputs": [
    {
     "data": {
      "text/plain": [
       "array([ 2255.225482 ,   629.9553062, 11601.63022  , 25306.82494  ,\n",
       "       27266.40335  , 19466.99052  ,   588.3691778,  2890.345675 ,\n",
       "       24733.62696  ,  1445.760002 ,  4803.398244 ,  2618.876037 ,\n",
       "         590.4521124,   665.7982328,  7122.938458 ,  2639.54156  ,\n",
       "        3362.4656   , 15378.16704  , 30860.12808  ,  2579.115607 ,\n",
       "        6525.541272 ,   229.6769525,  2242.689259 , 27570.4852   ,\n",
       "       23016.84778  ,  1334.646773 ,   402.6953275,  6047.200797 ,\n",
       "         394.1156638,   385.5793827,  1414.072488 ,  5745.981529 ,\n",
       "         837.7464011,  1206.991065 , 27715.52837  , 18937.24998  ,\n",
       "       39578.07441  ,   478.2194906, 16684.21278  ,   279.2204061,\n",
       "        5345.213415 ,  6288.25324  ,  1908.304416 ,   274.8728621,\n",
       "       14646.42094  , 40034.85063  ,   672.1547506,  3359.517402 ,\n",
       "       36152.66676  ,  3054.727742 , 33529.83052  ,  3825.093781 ,\n",
       "       15428.32098  , 33630.24604  , 39170.41371  ,  2699.123242 ,\n",
       "       21058.43643  , 28272.40661  , 37691.02733  ,  9581.05659  ,\n",
       "        5671.912202 ,   757.4009286,   347.7456605])"
      ]
     },
     "execution_count": 18,
     "metadata": {},
     "output_type": "execute_result"
    }
   ],
   "source": [
    "gdp_values_for_each_countries\n"
   ]
  },
  {
   "cell_type": "code",
   "execution_count": 19,
   "id": "a45abd87",
   "metadata": {},
   "outputs": [
    {
     "data": {
      "text/plain": [
       "array([40034.85063])"
      ]
     },
     "execution_count": 19,
     "metadata": {},
     "output_type": "execute_result"
    }
   ],
   "source": [
    "gdp_values_for_each_countries[gdp_values_for_each_countries ==40034.85063]"
   ]
  },
  {
   "cell_type": "code",
   "execution_count": 22,
   "id": "8d326840",
   "metadata": {},
   "outputs": [
    {
     "data": {
      "text/plain": [
       "40034.85063"
      ]
     },
     "execution_count": 22,
     "metadata": {},
     "output_type": "execute_result"
    }
   ],
   "source": [
    "np.max(gdp_values_for_each_countries)"
   ]
  },
  {
   "cell_type": "code",
   "execution_count": 23,
   "id": "95c6ac5c",
   "metadata": {},
   "outputs": [
    {
     "data": {
      "text/plain": [
       "(array([45], dtype=int64),)"
      ]
     },
     "execution_count": 23,
     "metadata": {},
     "output_type": "execute_result"
    }
   ],
   "source": [
    "np.where(gdp_values_for_each_countries ==40034.85063 )"
   ]
  },
  {
   "cell_type": "code",
   "execution_count": 24,
   "id": "e9947a2e",
   "metadata": {},
   "outputs": [
    {
     "data": {
      "text/plain": [
       "40034.85063"
      ]
     },
     "execution_count": 24,
     "metadata": {},
     "output_type": "execute_result"
    }
   ],
   "source": [
    "gdp_values_for_each_countries[45]"
   ]
  },
  {
   "cell_type": "code",
   "execution_count": 27,
   "id": "45959a31",
   "metadata": {},
   "outputs": [],
   "source": [
    "list_of_countries_gdp_values_for_each_countries = np.stack((list_of_countries, gdp_values_for_each_countries))"
   ]
  },
  {
   "cell_type": "code",
   "execution_count": 28,
   "id": "d8aa07d4",
   "metadata": {},
   "outputs": [
    {
     "data": {
      "text/plain": [
       "array([['Algeria', 'Angola', 'Argentina', 'Australia', 'Austria',\n",
       "        'Bahamas', 'Bangladesh', 'Belarus', 'Belgium', 'Bhutan',\n",
       "        'Brazil', 'Bulgaria', 'Cambodia', 'Cameroon', 'Chile', 'China',\n",
       "        'Colombia', 'Cyprus', 'Denmark', 'El Salvador', 'Estonia',\n",
       "        'Ethiopia', 'Fiji', 'Finland', 'France', 'Georgia', 'Ghana',\n",
       "        'Grenada', 'Guinea', 'Haiti', 'Honduras', 'Hungary', 'India',\n",
       "        'Indonesia', 'Ireland', 'Italy', 'Japan', 'Kenya', 'South Korea',\n",
       "        'Liberia', 'Malaysia', 'Mexico', 'Morocco', 'Nepal',\n",
       "        'New Zealand', 'Norway', 'Pakistan', 'Peru', 'Qatar', 'Russia',\n",
       "        'Singapore', 'South Africa', 'Spain', 'Sweden', 'Switzerland',\n",
       "        'Thailand', 'United Arab Emirates', 'United Kingdom',\n",
       "        'United States', 'Uruguay', 'Venezuela', 'Vietnam', 'Zimbabwe'],\n",
       "       ['2255.225482', '629.9553062', '11601.63022', '25306.82494',\n",
       "        '27266.40335', '19466.99052', '588.3691778', '2890.345675',\n",
       "        '24733.62696', '1445.760002', '4803.398244', '2618.876037',\n",
       "        '590.4521124', '665.7982328', '7122.938458', '2639.54156',\n",
       "        '3362.4656', '15378.16704', '30860.12808', '2579.115607',\n",
       "        '6525.541272', '229.6769525', '2242.689259', '27570.4852',\n",
       "        '23016.84778', '1334.646773', '402.6953275', '6047.200797',\n",
       "        '394.1156638', '385.5793827', '1414.072488', '5745.981529',\n",
       "        '837.7464011', '1206.991065', '27715.52837', '18937.24998',\n",
       "        '39578.07441', '478.2194906', '16684.21278', '279.2204061',\n",
       "        '5345.213415', '6288.25324', '1908.304416', '274.8728621',\n",
       "        '14646.42094', '40034.85063', '672.1547506', '3359.517402',\n",
       "        '36152.66676', '3054.727742', '33529.83052', '3825.093781',\n",
       "        '15428.32098', '33630.24604', '39170.41371', '2699.123242',\n",
       "        '21058.43643', '28272.40661', '37691.02733', '9581.05659',\n",
       "        '5671.912202', '757.4009286', '347.7456605']], dtype='<U32')"
      ]
     },
     "execution_count": 28,
     "metadata": {},
     "output_type": "execute_result"
    }
   ],
   "source": [
    "list_of_countries_gdp_values_for_each_countries"
   ]
  },
  {
   "cell_type": "code",
   "execution_count": 31,
   "id": "a4faaded",
   "metadata": {},
   "outputs": [
    {
     "data": {
      "text/plain": [
       "126"
      ]
     },
     "execution_count": 31,
     "metadata": {},
     "output_type": "execute_result"
    }
   ],
   "source": [
    "list_of_countries_gdp_values_for_each_countries.size"
   ]
  },
  {
   "cell_type": "code",
   "execution_count": 48,
   "id": "05c76522",
   "metadata": {},
   "outputs": [
    {
     "name": "stdout",
     "output_type": "stream",
     "text": [
      "['Norway' '40034.85063']\n"
     ]
    }
   ],
   "source": [
    "#Find and print the name of the country with the highest GDP\n",
    "gdp_values_for_each_countries[gdp_values_for_each_countries ==40034.85063]\n",
    "np.where(gdp_values_for_each_countries ==40034.85063 )\n",
    "list_of_countries_gdp_values_for_each_countries = np.stack((list_of_countries, gdp_values_for_each_countries))\n",
    "name_of_the_country_with_the_highest_GDP = list_of_countries_gdp_values_for_each_countries[:,45]\n",
    "print(name_of_the_country_with_the_highest_GDP)\n"
   ]
  },
  {
   "cell_type": "code",
   "execution_count": 36,
   "id": "10fb6101",
   "metadata": {},
   "outputs": [],
   "source": [
    "country_with_lowest_gdp_value = np.min(gdp_values_for_each_countries)"
   ]
  },
  {
   "cell_type": "code",
   "execution_count": 37,
   "id": "fb8c155a",
   "metadata": {},
   "outputs": [
    {
     "data": {
      "text/plain": [
       "229.6769525"
      ]
     },
     "execution_count": 37,
     "metadata": {},
     "output_type": "execute_result"
    }
   ],
   "source": [
    "country_with_lowest_gdp_value"
   ]
  },
  {
   "cell_type": "code",
   "execution_count": 38,
   "id": "74f78ab9",
   "metadata": {},
   "outputs": [],
   "source": [
    "index_of_country_with_lowest_gdp = np.where(country_with_lowest_gdp_value == 229.6769525)"
   ]
  },
  {
   "cell_type": "code",
   "execution_count": 39,
   "id": "3bc80400",
   "metadata": {},
   "outputs": [
    {
     "data": {
      "text/plain": [
       "(array([0], dtype=int64),)"
      ]
     },
     "execution_count": 39,
     "metadata": {},
     "output_type": "execute_result"
    }
   ],
   "source": [
    "index_of_country_with_lowest_gdp"
   ]
  },
  {
   "cell_type": "code",
   "execution_count": 40,
   "id": "f7151f4c",
   "metadata": {},
   "outputs": [],
   "source": [
    "name_of_the_country_with_the_lowest_GDP = list_of_countries_gdp_values_for_each_countries[:,0]"
   ]
  },
  {
   "cell_type": "code",
   "execution_count": 49,
   "id": "75d9cbcf",
   "metadata": {},
   "outputs": [
    {
     "name": "stdout",
     "output_type": "stream",
     "text": [
      "['Algeria' '2255.225482']\n"
     ]
    }
   ],
   "source": [
    "#Find and print the name of the country with the lowest GDP\n",
    "country_with_lowest_gdp_value = np.min(gdp_values_for_each_countries)\n",
    "index_of_country_with_lowest_gdp = np.where(country_with_lowest_gdp_value == 229.6769525)\n",
    "index_of_country_with_lowest_gdp\n",
    "\n",
    "print(name_of_the_country_with_the_lowest_GDP)"
   ]
  },
  {
   "cell_type": "code",
   "execution_count": 44,
   "id": "ac1c3939",
   "metadata": {},
   "outputs": [
    {
     "name": "stdout",
     "output_type": "stream",
     "text": [
      "['Algeria' 'Angola' 'Argentina' 'Australia' 'Austria' 'Bahamas'\n",
      " 'Bangladesh' 'Belarus' 'Belgium' 'Bhutan' 'Brazil' 'Bulgaria' 'Cambodia'\n",
      " 'Cameroon' 'Chile' 'China' 'Colombia' 'Cyprus' 'Denmark' 'El Salvador'\n",
      " 'Estonia' 'Ethiopia' 'Fiji' 'Finland' 'France' 'Georgia' 'Ghana'\n",
      " 'Grenada' 'Guinea' 'Haiti' 'Honduras' 'Hungary' 'India' 'Indonesia'\n",
      " 'Ireland' 'Italy' 'Japan' 'Kenya' 'South Korea' 'Liberia' 'Malaysia'\n",
      " 'Mexico' 'Morocco' 'Nepal' 'New Zealand' 'Norway' 'Pakistan' 'Peru'\n",
      " 'Qatar' 'Russia' 'Singapore' 'South Africa' 'Spain' 'Sweden'\n",
      " 'Switzerland' 'Thailand' 'United Arab Emirates' 'United Kingdom'\n",
      " 'United States' 'Uruguay' 'Venezuela' 'Vietnam' 'Zimbabwe']\n",
      "['2255.225482' '629.9553062' '11601.63022' '25306.82494' '27266.40335'\n",
      " '19466.99052' '588.3691778' '2890.345675' '24733.62696' '1445.760002'\n",
      " '4803.398244' '2618.876037' '590.4521124' '665.7982328' '7122.938458'\n",
      " '2639.54156' '3362.4656' '15378.16704' '30860.12808' '2579.115607'\n",
      " '6525.541272' '229.6769525' '2242.689259' '27570.4852' '23016.84778'\n",
      " '1334.646773' '402.6953275' '6047.200797' '394.1156638' '385.5793827'\n",
      " '1414.072488' '5745.981529' '837.7464011' '1206.991065' '27715.52837'\n",
      " '18937.24998' '39578.07441' '478.2194906' '16684.21278' '279.2204061'\n",
      " '5345.213415' '6288.25324' '1908.304416' '274.8728621' '14646.42094'\n",
      " '40034.85063' '672.1547506' '3359.517402' '36152.66676' '3054.727742'\n",
      " '33529.83052' '3825.093781' '15428.32098' '33630.24604' '39170.41371'\n",
      " '2699.123242' '21058.43643' '28272.40661' '37691.02733' '9581.05659'\n",
      " '5671.912202' '757.4009286' '347.7456605']\n"
     ]
    }
   ],
   "source": [
    "#Print out text and input values iteratively\n",
    "for element in list_of_countries_gdp_values_for_each_countries:\n",
    "    print(element)"
   ]
  },
  {
   "cell_type": "code",
   "execution_count": 46,
   "id": "f96616ba",
   "metadata": {},
   "outputs": [
    {
     "name": "stdout",
     "output_type": "stream",
     "text": [
      "[['Algeria' 'Angola' 'Argentina' 'Australia' 'Austria' 'Bahamas'\n",
      "  'Bangladesh' 'Belarus' 'Belgium' 'Bhutan' 'Brazil' 'Bulgaria'\n",
      "  'Cambodia' 'Cameroon' 'Chile' 'China' 'Colombia' 'Cyprus' 'Denmark'\n",
      "  'El Salvador' 'Estonia' 'Ethiopia' 'Fiji' 'Finland' 'France' 'Georgia'\n",
      "  'Ghana' 'Grenada' 'Guinea' 'Haiti' 'Honduras' 'Hungary' 'India'\n",
      "  'Indonesia' 'Ireland' 'Italy' 'Japan' 'Kenya' 'South Korea' 'Liberia'\n",
      "  'Malaysia' 'Mexico' 'Morocco' 'Nepal' 'New Zealand' 'Norway' 'Pakistan'\n",
      "  'Peru' 'Qatar' 'Russia' 'Singapore' 'South Africa' 'Spain' 'Sweden'\n",
      "  'Switzerland' 'Thailand' 'United Arab Emirates' 'United Kingdom'\n",
      "  'United States' 'Uruguay' 'Venezuela' 'Vietnam' 'Zimbabwe']\n",
      " ['2255.225482' '629.9553062' '11601.63022' '25306.82494' '27266.40335'\n",
      "  '19466.99052' '588.3691778' '2890.345675' '24733.62696' '1445.760002'\n",
      "  '4803.398244' '2618.876037' '590.4521124' '665.7982328' '7122.938458'\n",
      "  '2639.54156' '3362.4656' '15378.16704' '30860.12808' '2579.115607'\n",
      "  '6525.541272' '229.6769525' '2242.689259' '27570.4852' '23016.84778'\n",
      "  '1334.646773' '402.6953275' '6047.200797' '394.1156638' '385.5793827'\n",
      "  '1414.072488' '5745.981529' '837.7464011' '1206.991065' '27715.52837'\n",
      "  '18937.24998' '39578.07441' '478.2194906' '16684.21278' '279.2204061'\n",
      "  '5345.213415' '6288.25324' '1908.304416' '274.8728621' '14646.42094'\n",
      "  '40034.85063' '672.1547506' '3359.517402' '36152.66676' '3054.727742'\n",
      "  '33529.83052' '3825.093781' '15428.32098' '33630.24604' '39170.41371'\n",
      "  '2699.123242' '21058.43643' '28272.40661' '37691.02733' '9581.05659'\n",
      "  '5671.912202' '757.4009286' '347.7456605']]\n"
     ]
    }
   ],
   "source": [
    "#Print out the entire list of the countries with their GDPs\n",
    "list_of_countries_gdp_values_for_each_countries = np.stack((list_of_countries, gdp_values_for_each_countries))\n",
    "print(list_of_countries_gdp_values_for_each_countries)\n"
   ]
  },
  {
   "cell_type": "code",
   "execution_count": 47,
   "id": "4f8aef49",
   "metadata": {},
   "outputs": [
    {
     "name": "stdout",
     "output_type": "stream",
     "text": [
      "40034.85063 2255.225482 11289.409271639683 12743.828910617945 711232.7841133\n"
     ]
    }
   ],
   "source": [
    "#Print the highest GDP value, lowest GDP value, mean GDP value, standardized GDP value, and the sum of all the GDPs\n",
    "print(name_of_the_country_with_the_highest_GDP[1],name_of_the_country_with_the_lowest_GDP[1],np.mean(gdp_values_for_each_countries),np.std(gdp_values_for_each_countries),np.sum(gdp_values_for_each_countries))"
   ]
  },
  {
   "cell_type": "code",
   "execution_count": null,
   "id": "e4ee63d3",
   "metadata": {},
   "outputs": [],
   "source": []
  }
 ],
 "metadata": {
  "kernelspec": {
   "display_name": "Python 3",
   "language": "python",
   "name": "python3"
  },
  "language_info": {
   "codemirror_mode": {
    "name": "ipython",
    "version": 3
   },
   "file_extension": ".py",
   "mimetype": "text/x-python",
   "name": "python",
   "nbconvert_exporter": "python",
   "pygments_lexer": "ipython3",
   "version": "3.8.8"
  }
 },
 "nbformat": 4,
 "nbformat_minor": 5
}
